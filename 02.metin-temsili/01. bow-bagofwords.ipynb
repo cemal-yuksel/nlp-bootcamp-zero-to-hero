{
 "cells": [
  {
   "cell_type": "markdown",
   "id": "7c69f229",
   "metadata": {},
   "source": [
    "<div style=\"background: linear-gradient(90deg, #f8fafc 0%, #e0e7ef 100%); padding: 20px; border-radius: 10px;\">\n",
    "\n",
    "# 🎨 <span style=\"color:#1976d2\"><b>NLP'de Bag of Words (BoW) Yöntemi</b></span> <span style=\"font-size:1.5em;\"></span>\n",
    "\n",
    "Bu notebook, BoW yaklaşımını hem temel hem de IMDB veri seti üzerinde profesyonel şekilde tanıtır. Adım adım ilerleyerek metin vektörleştirme, veri analizi, pastel tonlarda görselleştirme ve basit sınıflandırıcı eğitimi konularını ele alacağız.\n",
    "\n",
    "<div style=\"background:#fffde7; border-radius:8px; padding:10px; margin-bottom:10px; border-left:6px solid #fbc02d;\">\n",
    "<b>⚡ Flashcard:</b> <span style=\"color:#fbc02d\"><b>BoW</b></span> metinleri kelime sıklıklarına göre vektörleştirir. <b>Önemli:</b> Kelime sırası dikkate alınmaz!\n",
    "</div>\n",
    "\n",
    "## <span style=\"color:#388e3c\"><b>İçerik</b></span> <span style=\"font-size:1.2em;\">📋</span>\n",
    "- <b>Gerekli Kütüphanelerin Yüklenmesi ve İçe Aktarılması</b> <span style=\"color:#0288d1\">🔧</span>\n",
    "- <b>BoW (Bag of Words) Yönteminin Temelleri</b> <span style=\"color:#e65100\">📚</span>\n",
    "- <b>BoW ile Basit Metin Vektörleştirme</b> <span style=\"color:#ad1457\">📝</span>\n",
    "- <b>IMDB Veri Setinin Yüklenmesi ve İncelenmesi</b> <span style=\"color:#388e3c\">📦</span>\n",
    "- <b>BoW ile IMDB Veri Setinin Vektörleştirilmesi</b> <span style=\"color:#5e35b1\">🔢</span>\n",
    "- <b>BoW Özellikleriyle Basit Sınıflandırıcı Eğitimi</b> <span style=\"color:#fbc02d\">🤖</span>\n",
    "- <b>Model Performansının Değerlendirilmesi</b> <span style=\"color:#8e24aa\">📊</span>\n",
    "- <b>Pastel Tonlarda Veri Görselleştirme</b> <span style=\"color:#0288d1\">🎨</span>\n",
    "- <b>Yol Gösterici 5 Örnek</b> <span style=\"color:#689f38\">🚀</span>\n",
    "\n",
    "</div>"
   ]
  },
  {
   "cell_type": "markdown",
   "id": "b3a38f63",
   "metadata": {},
   "source": [
    "## 1. Gerekli Kütüphanelerin Yüklenmesi ve İçe Aktarılması\n",
    "\n",
    "<div style=\"background:#e0f7fa; border-radius:8px; padding:10px; margin-bottom:10px;\">\n",
    "<b>🔑 Flashcard:</b> <span style=\"color:#00796b\"><b>CountVectorizer</b></span> metinleri sayısal vektörlere dönüştürmek için kullanılır.\n",
    "</div>\n",
    "\n",
    "NLP uygulamalarında sıkça kullanılan kütüphaneleri yükleyelim ve içe aktaralım. Bu adımda <b>NumPy</b>, <b>pandas</b>, <b>scikit-learn</b> ve <b>nltk</b> gibi temel araçlar kullanılacaktır."
   ]
  },
  {
   "cell_type": "code",
   "execution_count": 1,
   "id": "e33d35ef",
   "metadata": {},
   "outputs": [
    {
     "name": "stderr",
     "output_type": "stream",
     "text": [
      "[nltk_data] Downloading package punkt to\n",
      "[nltk_data]     C:\\Users\\Cemal\\AppData\\Roaming\\nltk_data...\n",
      "[nltk_data]   Package punkt is already up-to-date!\n"
     ]
    },
    {
     "data": {
      "text/plain": [
       "True"
      ]
     },
     "execution_count": 1,
     "metadata": {},
     "output_type": "execute_result"
    }
   ],
   "source": [
    "# Gerekli kütüphanelerin yüklenmesi ve içe aktarılması\n",
    "import numpy as np\n",
    "import pandas as pd\n",
    "from sklearn.feature_extraction.text import CountVectorizer\n",
    "from sklearn.model_selection import train_test_split\n",
    "from sklearn.linear_model import LogisticRegression\n",
    "from sklearn.metrics import accuracy_score, confusion_matrix, classification_report\n",
    "import nltk\n",
    "import re\n",
    "from collections import Counter\n",
    "\n",
    "# nltk veri setleri (isteğe bağlı)\n",
    "nltk.download('punkt')"
   ]
  },
  {
   "cell_type": "markdown",
   "id": "8b486d91",
   "metadata": {},
   "source": [
    "## 2. BoW (Bag of Words) Yönteminin Temelleri\n",
    "\n",
    "<div style=\"background:#fff3e0; border-radius:8px; padding:10px; margin-bottom:10px;\">\n",
    "<b>📚 Flashcard:</b> <span style=\"color:#e65100\"><b>BoW</b></span> yöntemi, metinleri kelime sıklıklarına göre vektörleştirir. <b>Önemli:</b> Kelime sırası dikkate alınmaz!\n",
    "</div>\n",
    "\n",
    "Bag of Words (BoW), metinleri sayısal vektörlere dönüştürmek için kullanılan en temel yöntemlerden biridir. Her metin, içindeki kelimelerin sıklığına göre bir vektörle temsil edilir. Bu yöntem, metin madenciliği ve makine öğrenmesi uygulamalarında sıkça kullanılır."
   ]
  },
  {
   "cell_type": "code",
   "execution_count": 2,
   "id": "7d59c645",
   "metadata": {},
   "outputs": [
    {
     "name": "stdout",
     "output_type": "stream",
     "text": [
      "Kelime kümesi: ['bahçede' 'evde' 'kedi']\n",
      "Vektör temsili: [[1 0 1]\n",
      " [0 1 1]]\n"
     ]
    }
   ],
   "source": [
    "# BoW mantığı: Küçük bir örnek\n",
    "metinler = [\n",
    "    \"kedi bahçede\",\n",
    "    \"kedi evde\"\n",
    "]\n",
    "\n",
    "vectorizer = CountVectorizer()\n",
    "X = vectorizer.fit_transform(metinler)\n",
    "\n",
    "print(\"Kelime kümesi:\", vectorizer.get_feature_names_out())\n",
    "print(\"Vektör temsili:\", X.toarray())"
   ]
  },
  {
   "cell_type": "markdown",
   "id": "61ae78ac",
   "metadata": {},
   "source": [
    "## 3. BoW ile Basit Metin Vektörleştirme\n",
    "\n",
    "<div style=\"background:#fce4ec; border-radius:8px; padding:10px; margin-bottom:10px;\">\n",
    "<b>📝 Flashcard:</b> <span style=\"color:#ad1457\"><b>Vektör temsili</b></span> ile her metin, kelime kümesindeki kelimelerin varlığına göre bir sayı dizisiyle gösterilir.\n",
    "</div>\n",
    "\n",
    "Aşağıda, <b>CountVectorizer</b> ile iki kısa metnin BoW vektörleştirmesi gösterilmektedir. Her metin, kelime kümesindeki kelimelerin varlığına göre bir vektörle temsil edilir."
   ]
  },
  {
   "cell_type": "markdown",
   "id": "30e9f215",
   "metadata": {},
   "source": [
    "## 4. IMDB Veri Setinin Yüklenmesi ve İncelenmesi\n",
    "\n",
    "<div style=\"background:#e8f5e9; border-radius:8px; padding:10px; margin-bottom:10px;\">\n",
    "<b>📦 Flashcard:</b> <span style=\"color:#388e3c\"><b>IMDB Dataset</b></span> film yorumları ve duygu etiketleri içerir. <b>Önemli:</b> Gerçek dünya uygulamaları için idealdir!\n",
    "</div>\n",
    "\n",
    "Gerçek dünya uygulaması için IMDB film yorumları veri setini kullanacağız. Veri setini yükleyip temel istatistiklerini ve örneklerini inceleyelim."
   ]
  },
  {
   "cell_type": "code",
   "execution_count": 3,
   "id": "4c8459bf",
   "metadata": {},
   "outputs": [
    {
     "name": "stdout",
     "output_type": "stream",
     "text": [
      "Veri seti boyutu: (50000, 2)\n",
      "                                              review sentiment\n",
      "0  One of the other reviewers has mentioned that ...  positive\n",
      "1  A wonderful little production. <br /><br />The...  positive\n",
      "2  I thought this was a wonderful way to spend ti...  positive\n",
      "3  Basically there's a family where a little boy ...  negative\n",
      "4  Petter Mattei's \"Love in the Time of Money\" is...  positive\n"
     ]
    }
   ],
   "source": [
    "# IMDB veri setini yükle\n",
    "imdb_df = pd.read_csv(\"IMDB Dataset.csv\")\n",
    "print(\"Veri seti boyutu:\", imdb_df.shape)\n",
    "print(imdb_df.head())"
   ]
  },
  {
   "cell_type": "code",
   "execution_count": 4,
   "id": "b6f8e9db",
   "metadata": {},
   "outputs": [
    {
     "name": "stdout",
     "output_type": "stream",
     "text": [
      "                                              review  \\\n",
      "0  One of the other reviewers has mentioned that ...   \n",
      "1  A wonderful little production. <br /><br />The...   \n",
      "2  I thought this was a wonderful way to spend ti...   \n",
      "3  Basically there's a family where a little boy ...   \n",
      "4  Petter Mattei's \"Love in the Time of Money\" is...   \n",
      "\n",
      "                                        clean_review  \n",
      "0  one the other reviewers has mentioned that aft...  \n",
      "1  wonderful little production the filming techni...  \n",
      "2  thought this was wonderful way spend time too ...  \n",
      "3  basically theres family where little boy jake ...  \n",
      "4  petter matteis love the time money visually st...  \n"
     ]
    }
   ],
   "source": [
    "# Metin temizleme fonksiyonu\n",
    "def clean_text(text):\n",
    "    text = text.lower()\n",
    "    text = re.sub(r\"\\d+\", \"\", text)\n",
    "    text = re.sub(r\"[^\\w\\s]\", \"\", text)\n",
    "    text = \" \".join([word for word in text.split() if len(word) > 2])\n",
    "    return text\n",
    "\n",
    "# Metinleri temizle\n",
    "imdb_df[\"clean_review\"] = imdb_df[\"review\"].apply(clean_text)\n",
    "print(imdb_df[[\"review\", \"clean_review\"]].head())"
   ]
  },
  {
   "cell_type": "markdown",
   "id": "9325d1c3",
   "metadata": {},
   "source": [
    "## 5. BoW ile IMDB Veri Setinin Vektörleştirilmesi\n",
    "\n",
    "<div style=\"background:#ede7f6; border-radius:8px; padding:10px; margin-bottom:10px;\">\n",
    "<b>🔢 Flashcard:</b> <span style=\"color:#5e35b1\"><b>BoW vektörleştirme</b></span> ile binlerce metin, makine öğrenmesi için hazır hale gelir.\n",
    "</div>\n",
    "\n",
    "Temizlenmiş metinleri BoW yöntemiyle vektörleştirip, kelime kümesini ve örnek vektör temsillerini inceleyelim."
   ]
  },
  {
   "cell_type": "code",
   "execution_count": 5,
   "id": "6a6eb2cb",
   "metadata": {},
   "outputs": [
    {
     "name": "stdout",
     "output_type": "stream",
     "text": [
      "Kelime kümesi örneği: ['_fargo_' '_inspire_' 'aaargh' 'aaliyah' 'aamir' 'aaron' 'abandon'\n",
      " 'abandoned' 'abandons' 'abba']\n",
      "Vektör temsili örneği: [[0 0 0 ... 0 0 0]\n",
      " [0 0 0 ... 0 0 0]\n",
      " [0 0 0 ... 0 0 0]\n",
      " [0 0 0 ... 0 0 0]\n",
      " [0 0 0 ... 0 0 0]]\n"
     ]
    }
   ],
   "source": [
    "# BoW vektörleştirme\n",
    "vectorizer = CountVectorizer()\n",
    "X = vectorizer.fit_transform(imdb_df[\"clean_review\"][:1000])  # örnek olarak ilk 1000 yorum\n",
    "feature_names = vectorizer.get_feature_names_out()\n",
    "print(\"Kelime kümesi örneği:\", feature_names[:10])\n",
    "print(\"Vektör temsili örneği:\", X.toarray()[:5])"
   ]
  },
  {
   "cell_type": "code",
   "execution_count": 6,
   "id": "008ef14b",
   "metadata": {},
   "outputs": [
    {
     "name": "stdout",
     "output_type": "stream",
     "text": [
      "En sık geçen 10 kelime: [('the', np.int64(13363)), ('and', np.int64(6402)), ('this', np.int64(3074)), ('that', np.int64(2611)), ('was', np.int64(1916)), ('with', np.int64(1764)), ('for', np.int64(1706)), ('movie', np.int64(1703)), ('but', np.int64(1603)), ('film', np.int64(1473))]\n"
     ]
    }
   ],
   "source": [
    "# Kelime frekans analizi\n",
    "word_counts = X.sum(axis=0).A1\n",
    "word_freq = dict(zip(feature_names, word_counts))\n",
    "most_common_10 = Counter(word_freq).most_common(10)\n",
    "print(\"En sık geçen 10 kelime:\", most_common_10)"
   ]
  },
  {
   "cell_type": "markdown",
   "id": "9afcaefd",
   "metadata": {},
   "source": [
    "## 6. BoW Özellikleriyle Basit Sınıflandırıcı Eğitimi\n",
    "\n",
    "<div style=\"background:#fffde7; border-radius:8px; padding:10px; margin-bottom:10px;\">\n",
    "<b>🤖 Flashcard:</b> <span style=\"color:#fbc02d\"><b>Lojistik Regresyon</b></span> BoW vektörleriyle duygu analizi için en temel sınıflandırıcıdır.\n",
    "</div>\n",
    "\n",
    "BoW ile elde edilen vektörleri kullanarak basit bir lojistik regresyon modeli ile duygu analizi (sentiment classification) gerçekleştireceğiz."
   ]
  },
  {
   "cell_type": "code",
   "execution_count": 7,
   "id": "b94e88e8",
   "metadata": {},
   "outputs": [],
   "source": [
    "# Sınıflandırıcı eğitimi\n",
    "labels = imdb_df[\"sentiment\"][:1000].map({\"positive\": 1, \"negative\": 0})\n",
    "X_train, X_test, y_train, y_test = train_test_split(X, labels, test_size=0.2, random_state=42)\n",
    "model = LogisticRegression(max_iter=200)\n",
    "model.fit(X_train, y_train)\n",
    "pred = model.predict(X_test)"
   ]
  },
  {
   "cell_type": "markdown",
   "id": "56f489ea",
   "metadata": {},
   "source": [
    "## 7. Model Performansının Değerlendirilmesi\n",
    "\n",
    "<div style=\"background:#f3e5f5; border-radius:8px; padding:10px; margin-bottom:10px;\">\n",
    "<b>📊 Flashcard:</b> <span style=\"color:#8e24aa\"><b>Doğruluk</b></span> ve <span style=\"color:#d81b60\"><b>Karışıklık Matrisi</b></span> ile model başarısını ölç!\n",
    "</div>\n",
    "\n",
    "Eğitilen modelin doğruluk, karışıklık matrisi ve sınıflandırma raporu ile performansını değerlendirelim."
   ]
  },
  {
   "cell_type": "code",
   "execution_count": 8,
   "id": "553d764c",
   "metadata": {},
   "outputs": [
    {
     "name": "stdout",
     "output_type": "stream",
     "text": [
      "Doğruluk: 0.795\n",
      "Karışıklık Matrisi:\n",
      " [[81 23]\n",
      " [18 78]]\n",
      "Sınıflandırma Raporu:\n",
      "               precision    recall  f1-score   support\n",
      "\n",
      "           0       0.82      0.78      0.80       104\n",
      "           1       0.77      0.81      0.79        96\n",
      "\n",
      "    accuracy                           0.80       200\n",
      "   macro avg       0.80      0.80      0.79       200\n",
      "weighted avg       0.80      0.80      0.80       200\n",
      "\n"
     ]
    }
   ],
   "source": [
    "# Model performansı\n",
    "print(\"Doğruluk:\", accuracy_score(y_test, pred))\n",
    "print(\"Karışıklık Matrisi:\\n\", confusion_matrix(y_test, pred))\n",
    "print(\"Sınıflandırma Raporu:\\n\", classification_report(y_test, pred))"
   ]
  },
  {
   "cell_type": "code",
   "execution_count": 10,
   "id": "7b16aa3b",
   "metadata": {},
   "outputs": [
    {
     "data": {
      "image/png": "[encoded data removed]",
      "text/plain": [
       "<Figure size 1000x500 with 1 Axes>"
      ]
     },
     "metadata": {},
     "output_type": "display_data"
    }
   ],
   "source": [
    "# En sık geçen 10 kelimeyi pastel tonlarda görselleştir\n",
    "kelimeler, frekanslar = zip(*most_common_10)\n",
    "plt.figure(figsize=(10,5))\n",
    "sns.barplot(x=list(kelimeler), y=list(frekanslar))\n",
    "plt.title('En Sık Geçen 10 Kelime (Pastel Tonlar)', fontsize=14)\n",
    "plt.xlabel('Kelime')\n",
    "plt.ylabel('Frekans')\n",
    "plt.show()"
   ]
  },
  {
   "cell_type": "code",
   "execution_count": 16,
   "id": "b2024a23",
   "metadata": {},
   "outputs": [
    {
     "data": {
      "image/png": "[encoded data removed]",
      "text/plain": [
       "<Figure size 600x400 with 2 Axes>"
      ]
     },
     "metadata": {},
     "output_type": "display_data"
    }
   ],
   "source": [
    "# Modelin karışıklık matrisini pastel tonlarda görselleştir\n",
    "cm = confusion_matrix(y_test, pred)\n",
    "plt.figure(figsize=(6,4))\n",
    "sns.heatmap(cm, annot=True, fmt='d', cmap=sns.light_palette(\"#1976d2\", as_cmap=True),\n",
    "            xticklabels=['Negatif', 'Pozitif'], yticklabels=['Negatif', 'Pozitif'])\n",
    "plt.title('Karışıklık Matrisi (Pastel Tonlar)', fontsize=14)\n",
    "plt.xlabel('Tahmin')\n",
    "plt.ylabel('Gerçek')\n",
    "plt.show()"
   ]
  }
 ],
 "metadata": {
  "kernelspec": {
   "display_name": "Python 3",
   "language": "python",
   "name": "python3"
  },
  "language_info": {
   "codemirror_mode": {
    "name": "ipython",
    "version": 3
   },
   "file_extension": ".py",
   "mimetype": "text/x-python",
   "name": "python",
   "nbconvert_exporter": "python",
   "pygments_lexer": "ipython3",
   "version": "3.13.7"
  }
 },
 "nbformat": 4,
 "nbformat_minor": 5
}
