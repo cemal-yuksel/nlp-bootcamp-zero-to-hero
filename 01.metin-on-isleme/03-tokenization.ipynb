{
 "cells": [
  {
   "cell_type": "markdown",
   "id": "6f14ef0a",
   "metadata": {},
   "source": [
    "<h1 style=\"color:#2d8659;\">🧠 <b>Doğal Dil İşleme'de Tokenization (Tokenizasyon) İşlemi</b> 🧩</h1>\n",
    "\n",
    "<div style=\"background-color:#e6f7ff; border-left:5px solid #1890ff; padding:10px;\">\n",
    "<b>From Zero to Hero</b> konseptinde, <b style='color:#d46b08;'>tokenizasyon</b> konusunu adım adım ve örneklerle öğreneceğiz.\n",
    "</div>\n",
    "\n",
    "<details>\n",
    "<summary><b>📚 İçindekiler</b></summary>\n",
    "<ul>\n",
    "<li>1. Tokenizasyon Nedir?</li>\n",
    "<li>2. Neden Tokenizasyon Yapılır?</li>\n",
    "<li>3. Python'da Tokenizasyon: NLTK ile Uygulama</li>\n",
    "<li>4. Kelime ve Cümle Tokenizasyonu</li>\n",
    "<li>5. Türkçe Metinlerde Tokenizasyon</li>\n",
    "<li>6. Sıkça Karşılaşılan Sorunlar ve İpuçları</li>\n",
    "<li>7. Uygulama: 5 Farklı Örnek</li>\n",
    "</ul>\n",
    "</details>"
   ]
  },
  {
   "cell_type": "markdown",
   "id": "22853bb4",
   "metadata": {},
   "source": [
    "<h2 style=\"color:#d46b08;\">1️⃣ 1. Tokenizasyon Nedir?</h2>\n",
    "\n",
    "<div style=\"background-color:#fffbe6; border-left:5px solid #faad14; padding:10px;\">\n",
    "<b>Tokenizasyon</b>, bir metni daha küçük parçalara ayırma işlemidir. Bu parçalar genellikle <b style='color:#1890ff;'>kelime (word)</b> veya <b style='color:#1890ff;'>cümle (sentence)</b> olabilir.\n",
    "<br><br>\n",
    "<b>Örnek:</b> <code>\"Merhaba dünya!\"</code> → <span style='color:#52c41a;'>[\"Merhaba\", \"dünya\", \"!\"]</span>\n",
    "</div>"
   ]
  },
  {
   "cell_type": "markdown",
   "id": "fddaf130",
   "metadata": {},
   "source": [
    "<h2 style=\"color:#d46b08;\">2️⃣ 2. Neden Tokenizasyon Yapılır?</h2>\n",
    "\n",
    "<ul>\n",
    "<li>🔎 <b>Analiz ve işlem</b> için metni küçük parçalara ayırmak gerekir.</li>\n",
    "<li>🤖 <b>Makine öğrenmesi</b> ve NLP modelleri genellikle tokenlar üzerinde çalışır.</li>\n",
    "<li>📊 <b>Kelime sıklığı</b>, <b>duygu analizi</b>, <b>özetleme</b> gibi işlemler için gereklidir.</li>\n",
    "</ul>"
   ]
  },
  {
   "cell_type": "markdown",
   "id": "b6316a1f",
   "metadata": {},
   "source": [
    "<h2 style=\"color:#d46b08;\">3️⃣ 3. Python'da Tokenizasyon: NLTK ile Uygulama</h2>\n",
    "\n",
    "<div style=\"background-color:#e6fffb; border-left:5px solid #13c2c2; padding:10px;\">\n",
    "<b>NLTK</b> (Natural Language Toolkit), Python'da doğal dil işleme için en çok kullanılan kütüphanelerden biridir. <b>Tokenizasyon</b> işlemleri için de oldukça kullanışlıdır.\n",
    "</div>\n",
    "\n",
    "<span style=\"color:#fa541c; font-weight:bold;\">⚠️ Not:</span> NLTK'nın bazı fonksiyonları için önceden veri indirmek gerekir."
   ]
  },
  {
   "cell_type": "code",
   "execution_count": 1,
   "id": "f8628a21",
   "metadata": {},
   "outputs": [
    {
     "name": "stderr",
     "output_type": "stream",
     "text": [
      "[nltk_data] Downloading package punkt to\n",
      "[nltk_data]     C:\\Users\\Cemal\\AppData\\Roaming\\nltk_data...\n",
      "[nltk_data]   Package punkt is already up-to-date!\n"
     ]
    },
    {
     "data": {
      "text/plain": [
       "True"
      ]
     },
     "execution_count": 1,
     "metadata": {},
     "output_type": "execute_result"
    }
   ],
   "source": [
    "# Gerekli kütüphaneyi yükleyelim ve indirmemiz gereken paketleri indirelim\n",
    "import nltk\n",
    "nltk.download('punkt')  # Tokenizasyon için gerekli veri seti"
   ]
  },
  {
   "cell_type": "markdown",
   "id": "695e9b84",
   "metadata": {},
   "source": [
    "<h2 style=\"color:#d46b08;\">4️⃣ 4. Kelime ve Cümle Tokenizasyonu</h2>\n",
    "\n",
    "<h3 style=\"color:#389e0d;\">🔹 Kelime Tokenizasyonu</h3>\n",
    "<div style=\"background-color:#f6ffed; border-left:5px solid #52c41a; padding:10px;\">\n",
    "Metni kelimelere ayırmak için <b><code>word_tokenize</code></b> fonksiyonu kullanılır. <b>Noktalama işaretleri</b> de ayrı birer token olarak elde edilir.\n",
    "</div>"
   ]
  },
  {
   "cell_type": "code",
   "execution_count": 2,
   "id": "d0cd76cc",
   "metadata": {},
   "outputs": [
    {
     "name": "stdout",
     "output_type": "stream",
     "text": [
      "Kelime Tokenları: ['Hello', ',', 'World', '!', 'How', 'are', 'you', '?', 'Hello', ',', 'hi', '...']\n"
     ]
    }
   ],
   "source": [
    "from nltk.tokenize import word_tokenize\n",
    "\n",
    "text = \"Hello, World! How are you? Hello, hi ...\"\n",
    "word_tokens = word_tokenize(text)\n",
    "print(\"Kelime Tokenları:\", word_tokens)"
   ]
  },
  {
   "cell_type": "markdown",
   "id": "43aaddfa",
   "metadata": {},
   "source": [
    "<h3 style=\"color:#389e0d;\">🔹 Cümle Tokenizasyonu</h3>\n",
    "<div style=\"background-color:#f6ffed; border-left:5px solid #52c41a; padding:10px;\">\n",
    "Metni cümlelere ayırmak için <b><code>sent_tokenize</code></b> fonksiyonu kullanılır. Her bir cümle bir token olur.\n",
    "</div>"
   ]
  },
  {
   "cell_type": "code",
   "execution_count": 3,
   "id": "4809a2f9",
   "metadata": {},
   "outputs": [
    {
     "name": "stdout",
     "output_type": "stream",
     "text": [
      "Cümle Tokenları: ['Hello, World!', 'How are you?', 'Hello, hi ...']\n"
     ]
    }
   ],
   "source": [
    "from nltk.tokenize import sent_tokenize\n",
    "\n",
    "sentence_tokens = sent_tokenize(text)\n",
    "print(\"Cümle Tokenları:\", sentence_tokens)"
   ]
  },
  {
   "cell_type": "markdown",
   "id": "1f039cdb",
   "metadata": {},
   "source": [
    "<h2 style=\"color:#d46b08;\">5️⃣ 5. Türkçe Metinlerde Tokenizasyon</h2>\n",
    "\n",
    "<div style=\"background-color:#fffbe6; border-left:5px solid #faad14; padding:10px;\">\n",
    "NLTK'nın varsayılan tokenizasyonu <b>İngilizce</b> için optimize edilmiştir. <b>Türkçe</b> metinlerde de çoğunlukla iyi çalışır, ancak bazı özel durumlarda hata yapabilir.\n",
    "</div>\n",
    "<span style=\"color:#fa541c; font-weight:bold;\">💡 İpucu:</span> Türkçe için <b>Zemberek</b> gibi kütüphaneler de kullanılabilir."
   ]
  },
  {
   "cell_type": "code",
   "execution_count": 4,
   "id": "34c552ad",
   "metadata": {},
   "outputs": [
    {
     "name": "stdout",
     "output_type": "stream",
     "text": [
      "Kelime Tokenları (TR): ['Merhaba', 'dünya', '!', 'Nasılsın', '?', 'Bugün', 'hava', 'çok', 'güzel', '.']\n",
      "Cümle Tokenları (TR): ['Merhaba dünya!', 'Nasılsın?', 'Bugün hava çok güzel.']\n"
     ]
    }
   ],
   "source": [
    "turkish_text = \"Merhaba dünya! Nasılsın? Bugün hava çok güzel.\"\n",
    "print(\"Kelime Tokenları (TR):\", word_tokenize(turkish_text))\n",
    "print(\"Cümle Tokenları (TR):\", sent_tokenize(turkish_text))"
   ]
  },
  {
   "cell_type": "markdown",
   "id": "64472f16",
   "metadata": {},
   "source": [
    "<h2 style=\"color:#d46b08;\">6️⃣ 6. Sıkça Karşılaşılan Sorunlar ve İpuçları</h2>\n",
    "\n",
    "<ul>\n",
    "<li>✂️ <b>Noktalama işaretleri</b> ayrı token olur.</li>\n",
    "<li>❗ <b>Kısaltmalar</b> (örn. <code>Dr.</code>, <code>vs.</code>) cümle tokenizasyonunda sorun çıkarabilir.</li>\n",
    "<li>🇹🇷 <b>Türkçe'de özel karakterler</b> ve ekler dikkat gerektirir.</li>\n",
    "<li>🚀 <b>Gelişmiş tokenizasyon</b> için <b>spaCy</b>, <b>Zemberek</b> gibi kütüphaneler de kullanılabilir.</li>\n",
    "</ul>"
   ]
  },
  {
   "cell_type": "markdown",
   "id": "437d2155",
   "metadata": {},
   "source": [
    "<h2 style=\"color:#d46b08;\">7️⃣ 7. Uygulama: 5 Farklı Örnek</h2>\n",
    "\n",
    "<div style=\"background-color:#e6f7ff; border-left:5px solid #1890ff; padding:10px;\">\n",
    "Aşağıda, farklı metinler üzerinde <b>kelime</b> ve <b>cümle tokenizasyonu</b> örnekleri bulabilirsiniz.\n",
    "</div>\n",
    "\n",
    "<details>\n",
    "<summary><b>📝 Flashcard: Tokenizasyonun Faydaları</b></summary>\n",
    "<ul>\n",
    "<li>✔️ Metni analiz edilebilir hale getirir</li>\n",
    "<li>✔️ NLP modellerinin temelini oluşturur</li>\n",
    "<li>✔️ Veri ön işleme sürecinin ilk adımıdır</li>\n",
    "</ul>\n",
    "</details>"
   ]
  },
  {
   "cell_type": "code",
   "execution_count": 5,
   "id": "4922bfd9",
   "metadata": {},
   "outputs": [
    {
     "name": "stdout",
     "output_type": "stream",
     "text": [
      "\n",
      "Örnek 1:\n",
      "Metin: Python çok güçlü bir programlama dilidir.\n",
      "Kelime Tokenları: ['Python', 'çok', 'güçlü', 'bir', 'programlama', 'dilidir', '.']\n",
      "Cümle Tokenları: ['Python çok güçlü bir programlama dilidir.']\n",
      "\n",
      "Örnek 2:\n",
      "Metin: Dr. Ahmet bugün okula gitti mi? Evet, gitti!\n",
      "Kelime Tokenları: ['Dr.', 'Ahmet', 'bugün', 'okula', 'gitti', 'mi', '?', 'Evet', ',', 'gitti', '!']\n",
      "Cümle Tokenları: ['Dr. Ahmet bugün okula gitti mi?', 'Evet, gitti!']\n",
      "\n",
      "Örnek 3:\n",
      "Metin: İstanbul, Türkiye'nin en kalabalık şehridir.\n",
      "Kelime Tokenları: ['İstanbul', ',', \"Türkiye'nin\", 'en', 'kalabalık', 'şehridir', '.']\n",
      "Cümle Tokenları: [\"İstanbul, Türkiye'nin en kalabalık şehridir.\"]\n",
      "\n",
      "Örnek 4:\n",
      "Metin: Bugün hava yağmurlu; şemsiye almayı unutma.\n",
      "Kelime Tokenları: ['Bugün', 'hava', 'yağmurlu', ';', 'şemsiye', 'almayı', 'unutma', '.']\n",
      "Cümle Tokenları: ['Bugün hava yağmurlu; şemsiye almayı unutma.']\n",
      "\n",
      "Örnek 5:\n",
      "Metin: NLP (Doğal Dil İşleme) alanı hızla gelişiyor.\n",
      "Kelime Tokenları: ['NLP', '(', 'Doğal', 'Dil', 'İşleme', ')', 'alanı', 'hızla', 'gelişiyor', '.']\n",
      "Cümle Tokenları: ['NLP (Doğal Dil İşleme) alanı hızla gelişiyor.']\n"
     ]
    }
   ],
   "source": [
    "examples = [\n",
    "    \"Python çok güçlü bir programlama dilidir.\",\n",
    "    \"Dr. Ahmet bugün okula gitti mi? Evet, gitti!\",\n",
    "    \"İstanbul, Türkiye'nin en kalabalık şehridir.\",\n",
    "    \"Bugün hava yağmurlu; şemsiye almayı unutma.\",\n",
    "    \"NLP (Doğal Dil İşleme) alanı hızla gelişiyor.\"\n",
    "]\n",
    "\n",
    "for i, ex in enumerate(examples, 1):\n",
    "    print(f\"\\nÖrnek {i}:\")\n",
    "    print(\"Metin:\", ex)\n",
    "    print(\"Kelime Tokenları:\", word_tokenize(ex))\n",
    "    print(\"Cümle Tokenları:\", sent_tokenize(ex))"
   ]
  }
 ],
 "metadata": {
  "kernelspec": {
   "display_name": ".venv",
   "language": "python",
   "name": "python3"
  },
  "language_info": {
   "codemirror_mode": {
    "name": "ipython",
    "version": 3
   },
   "file_extension": ".py",
   "mimetype": "text/x-python",
   "name": "python",
   "nbconvert_exporter": "python",
   "pygments_lexer": "ipython3",
   "version": "3.13.7"
  }
 },
 "nbformat": 4,
 "nbformat_minor": 5
}
