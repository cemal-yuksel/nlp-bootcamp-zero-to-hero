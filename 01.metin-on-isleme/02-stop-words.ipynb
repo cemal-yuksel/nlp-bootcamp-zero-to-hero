{
 "cells": [
  {
   "cell_type": "markdown",
   "id": "bd082fdf",
   "metadata": {},
   "source": [
    "<div style='background-color:#e3f2fd; border-radius:10px; padding:18px; border-left:8px solid #1976d2;'>\n",
    "<h1>🚀 <b>Stop Words (Gereksiz Kelimeler) ile Metin Ön İşleme</b></h1>\n",
    "</div>\n",
    "\n",
    "<div style='background-color:#fffde7; border-radius:10px; padding:14px; border-left:8px solid #fbc02d; margin-top:10px;'>\n",
    "<b>🎯 Amaç:</b> Bu not sonunda <span style='color:#1976d2; font-weight:bold;'>stop words</span> kavramını profesyonel düzeyde öğrenecek ve uygulayabileceksiniz.\n",
    "</div>"
   ]
  },
  {
   "cell_type": "markdown",
   "id": "b7fe89f7",
   "metadata": {},
   "source": [
    "<div style='background-color:#f1f8e9; border-radius:10px; padding:14px; border-left:8px solid #388e3c;'>\n",
    "<b>📚 İçerik:</b>\n",
    "<ul>\n",
    "<li><b>Stop words nedir, neden önemlidir?</b></li>\n",
    "<li><b>İngilizce ve Türkçe metinlerde stop words çıkarımı</b></li>\n",
    "<li><b>Kendi stop words listenizi oluşturma</b></li>\n",
    "<li><b>Gerçek hayattan örneklerle uygulama</b></li>\n",
    "</ul>\n",
    "</div>"
   ]
  },
  {
   "cell_type": "markdown",
   "id": "50076e5e",
   "metadata": {},
   "source": [
    "<div style='background-color:#e1f5fe; border-radius:10px; padding:14px; border-left:8px solid #0288d1;'>\n",
    "<h2>1️⃣ <b>Stop Words Nedir?</b></h2>\n",
    "<b>Stop words</b> <span style='color:#d84315;'>bir dilde çok sık kullanılan ve genellikle anlam taşımayan kelimelerdir</span>. Örneğin; Türkçede <b>ve, ile, bu</b>, İngilizcede <b>the, is, and</b> gibi kelimeler.\n",
    "<ul>\n",
    "<li>Metnin anlamına katkısı <b>azdır</b>.</li>\n",
    "<li>Modelin karmaşıklığını ve boyutunu <b>artırır</b>.</li>\n",
    "<li>Gürültüye neden olabilir.</li>\n",
    "</ul>\n",
    "<b>Kullanım Alanları:</b> <span style='color:#388e3c;'>Metin sınıflandırma, duygu analizi, bilgi çıkarımı, arama motorları</span>"
   ]
  },
  {
   "cell_type": "markdown",
   "id": "10a06375",
   "metadata": {},
   "source": [
    "<div style='background-color:#fff3e0; border-radius:10px; padding:14px; border-left:8px solid #ff9800;'>\n",
    "<h2>2️⃣ <b>Neden Stop Words Çıkarılır?</b></h2>\n",
    "<ul>\n",
    "<li><b>Gürültüyü Azaltmak:</b> Gereksiz kelimeleri çıkararak <span style='color:#1976d2; font-weight:bold;'>daha anlamlı sonuçlar</span> elde edilir.</li>\n",
    "<li><b>Verimlilik:</b> Modelin <span style='color:#388e3c; font-weight:bold;'>daha hızlı ve doğru</span> çalışmasını sağlar.</li>\n",
    "<li><b>Boyut Azaltma:</b> Özellik uzayını küçültür.</li>\n",
    "<li><b>Odaklanma:</b> Anlamlı kelimelere odaklanılır.</li>\n",
    "</ul>\n",
    "<b>⚠️ Not:</b> <span style='color:#d84315;'>Bazı uygulamalarda (ör. metin özetleme, dil modelleme) stop words çıkarımı istenmeyebilir.</span>"
   ]
  },
  {
   "cell_type": "markdown",
   "id": "6d086a79",
   "metadata": {},
   "source": [
    "<div style='background-color:#ede7f6; border-radius:10px; padding:14px; border-left:8px solid #7e57c2;'>\n",
    "<h2>3️⃣ <b>NLTK ile Stop Words Kullanımı</b></h2>\n",
    "<b>NLTK</b> (Natural Language Toolkit), Python'da en çok kullanılan doğal dil işleme kütüphanelerindendir. <span style='color:#1976d2;'>Farklı diller için hazır stop words listeleri</span> içerir.\n",
    "</div>"
   ]
  },
  {
   "cell_type": "code",
   "execution_count": 1,
   "id": "587cc876",
   "metadata": {},
   "outputs": [
    {
     "name": "stderr",
     "output_type": "stream",
     "text": [
      "[nltk_data] Downloading package stopwords to\n",
      "[nltk_data]     C:\\Users\\Cemal\\AppData\\Roaming\\nltk_data...\n",
      "[nltk_data]   Package stopwords is already up-to-date!\n"
     ]
    },
    {
     "data": {
      "text/plain": [
       "True"
      ]
     },
     "execution_count": 1,
     "metadata": {},
     "output_type": "execute_result"
    }
   ],
   "source": [
    "# NLTK kütüphanesini ve stopwords modülünü yükleyelim\n",
    "import nltk\n",
    "from nltk.corpus import stopwords\n",
    "\n",
    "# Stop words listesini indiriyoruz (ilk kez çalıştırıyorsanız gereklidir)\n",
    "nltk.download('stopwords')"
   ]
  },
  {
   "cell_type": "markdown",
   "id": "82f34389",
   "metadata": {},
   "source": [
    "<div style='background-color:#e3f2fd; border-radius:10px; padding:14px; border-left:8px solid #1976d2;'>\n",
    "<b>İngilizce Stop Words ile Temizleme</b> <span style='font-size:1.2em;'>🇬🇧</span>\n",
    "<br>Adım adım örnek:\n",
    "</div>"
   ]
  },
  {
   "cell_type": "code",
   "execution_count": 2,
   "id": "f4dbe486",
   "metadata": {},
   "outputs": [
    {
     "name": "stdout",
     "output_type": "stream",
     "text": [
      "Stop words çıkarılmış metin: ['examples', 'handling', 'stop', 'words', 'texts']\n"
     ]
    }
   ],
   "source": [
    "# İngilizce stop words listesini alalım\n",
    "stop_words_eng = set(stopwords.words('english'))\n",
    "\n",
    "# Örnek İngilizce metin\n",
    "text = \"There are some examples of handling stop words from some texts.\"\n",
    "\n",
    "# 1. Küçük harfe çevir\n",
    "text = text.lower()\n",
    "# 2. Noktalama işaretlerini kaldır\n",
    "import string\n",
    "text = text.translate(str.maketrans('', '', string.punctuation))\n",
    "# 3. Tokenizasyon (kelimelere ayırma)\n",
    "tokens = text.split()\n",
    "# 4. Stop words çıkarımı\n",
    "filtered_words = [word for word in tokens if word not in stop_words_eng]\n",
    "print('Stop words çıkarılmış metin:', filtered_words)"
   ]
  },
  {
   "cell_type": "markdown",
   "id": "8ca3a8e6",
   "metadata": {},
   "source": [
    "<div style='background-color:#e8f5e9; border-radius:10px; padding:14px; border-left:8px solid #43a047;'>\n",
    "<b>Türkçe Stop Words ile Temizleme</b> <span style='font-size:1.2em;'>🇹🇷</span>\n",
    "<br>Adım adım örnek:\n",
    "</div>"
   ]
  },
  {
   "cell_type": "code",
   "execution_count": 3,
   "id": "a4534e5f",
   "metadata": {},
   "outputs": [
    {
     "name": "stdout",
     "output_type": "stream",
     "text": [
      "Stop words çıkarılmış metin (TR): ['merhaba', 'arkadaşlar', 'güzel', 'bir', 'ders', 'işliyoruz', 'ders', 'faydalı']\n"
     ]
    }
   ],
   "source": [
    "# Türkçe stop words listesini alalım\n",
    "stop_words_tr = set(stopwords.words('turkish'))\n",
    "\n",
    "# Örnek Türkçe metin\n",
    "metin = \"Merhaba arkadaşlar, çok güzel bir ders işliyoruz. Bu ders faydalı mı?\"\n",
    "\n",
    "# 1. Küçük harfe çevir\n",
    "metin = metin.lower()\n",
    "# 2. Noktalama işaretlerini kaldır\n",
    "metin = metin.translate(str.maketrans('', '', string.punctuation))\n",
    "# 3. Tokenizasyon\n",
    "tokens = metin.split()\n",
    "# 4. Stop words çıkarımı\n",
    "filtered_words_tr = [word for word in tokens if word not in stop_words_tr]\n",
    "print('Stop words çıkarılmış metin (TR):', filtered_words_tr)"
   ]
  },
  {
   "cell_type": "markdown",
   "id": "ae2d68a2",
   "metadata": {},
   "source": [
    "<div style='background-color:#fffde7; border-radius:10px; padding:14px; border-left:8px solid #fbc02d;'>\n",
    "<b>💡 Flashcard:</b> <span style='color:#d84315;'><b>Hazır stop words listeleri</b> her zaman yeterli olmayabilir. Alanınıza özel kelimeler için <b>kendi listenizi</b> oluşturabilirsiniz.</span>\n",
    "</div>"
   ]
  },
  {
   "cell_type": "markdown",
   "id": "7c4b32c3",
   "metadata": {},
   "source": [
    "<div style='background-color:#fce4ec; border-radius:10px; padding:14px; border-left:8px solid #d81b60;'>\n",
    "<b>Manuel Stop Words Çıkarımı</b> <span style='font-size:1.2em;'>📝</span>\n",
    "</div>"
   ]
  },
  {
   "cell_type": "code",
   "execution_count": 4,
   "id": "23ed694f",
   "metadata": {},
   "outputs": [
    {
     "name": "stdout",
     "output_type": "stream",
     "text": [
      "Stop words çıkarılmış metin: ['bir', 'denemedir', 'amacımız', 'metinde', 'bulunan', 'karakterleri', 'elemek', 'acaba']\n",
      "Çıkarılan stop words: {'bu', 'özel', 'mi'}\n"
     ]
    }
   ],
   "source": [
    "# Kendi Türkçe stop words listemizi oluşturalım\n",
    "tr_stopwords = [\"için\", \"bu\", \"ile\", \"mu\", \"mi\", \"özel\"]\n",
    "\n",
    "# Örnek Türkçe metin\n",
    "metin = \"Bu bir denemedir. Amacımız bu metinde bulunan özel karakterleri elemek mi acaba?\"\n",
    "\n",
    "# Küçük harfe çevir ve noktalama işaretlerini kaldır\n",
    "metin_clean = metin.lower().translate(str.maketrans('', '', string.punctuation))\n",
    "tokens = metin_clean.split()\n",
    "\n",
    "filtered_words = [word for word in tokens if word not in tr_stopwords]\n",
    "filtered_stop_words = set([word for word in tokens if word in tr_stopwords])\n",
    "\n",
    "print('Stop words çıkarılmış metin:', filtered_words)\n",
    "print('Çıkarılan stop words:', filtered_stop_words)"
   ]
  },
  {
   "cell_type": "markdown",
   "id": "99d9114b",
   "metadata": {},
   "source": [
    "<div style='background-color:#e3f2fd; border-radius:10px; padding:14px; border-left:8px solid #1976d2;'>\n",
    "<b>İpucu:</b> <span style='color:#1976d2;'>Stop words çıkarımı öncesi <b>küçük harfe çevirme</b> ve <b>noktalama temizliği</b> yapmak doğruluğu artırır.</span>\n",
    "</div>"
   ]
  },
  {
   "cell_type": "code",
   "execution_count": 5,
   "id": "921a80b5",
   "metadata": {},
   "outputs": [
    {
     "name": "stdout",
     "output_type": "stream",
     "text": [
      "Temizlenmiş metin: ['bir', 'denemedir', 'amacımız', 'metinde', 'bulunan', 'karakterleri', 'elemek', 'acaba']\n"
     ]
    }
   ],
   "source": [
    "import string\n",
    "\n",
    "metin = \"Bu bir denemedir! Amacımız, bu metinde bulunan özel karakterleri elemek mi acaba?\"\n",
    "\n",
    "# Noktalama işaretlerini kaldır\n",
    "metin_clean = metin.translate(str.maketrans('', '', string.punctuation))\n",
    "# Küçük harfe çevir\n",
    "metin_clean = metin_clean.lower()\n",
    "# Tokenizasyon\n",
    "tokens = metin_clean.split()\n",
    "\n",
    "filtered_words = [word for word in tokens if word not in tr_stopwords]\n",
    "print('Temizlenmiş metin:', filtered_words)"
   ]
  },
  {
   "cell_type": "markdown",
   "id": "46a47ebd",
   "metadata": {},
   "source": [
    "<div style='background-color:#fff3e0; border-radius:10px; padding:14px; border-left:8px solid #ff9800;'>\n",
    "<h2>🧩 5 Farklı ve Açıklamalı Örnek</h2>\n",
    "Her örnek, gerçek hayatta karşılaşabileceğiniz farklı metin türleri ve ön işleme ihtiyaçlarını gösterir.\n",
    "</div>"
   ]
  },
  {
   "cell_type": "code",
   "execution_count": 8,
   "id": "ecf7fcb4",
   "metadata": {},
   "outputs": [
    {
     "name": "stdout",
     "output_type": "stream",
     "text": [
      "Örnek 1: ['simple', 'example', 'removing', 'stop', 'words']\n",
      "Örnek 2: ['bugün', 'hava', 'güzel', 'ders', 'çalışmak', 'harika', 'bir', 'gün']\n",
      "Örnek 3: ['hello', 'today']\n",
      "Örnek 4: ['güzel', 'gün', 'harika', 'hava', 'dışarı', 'çıkmak', 'harika', 'fırsat']\n",
      "Örnek 5: ['natural', 'language', 'processing', 'fascinating', 'field', 'artificial', 'intelligence', 'enables', 'computers', 'understand', 'generate', 'human', 'language']\n"
     ]
    }
   ],
   "source": [
    "# Örnek 1: İngilizce kısa cümle (temel kullanım)\n",
    "text = \"This is a simple example for removing stop words.\"\n",
    "text_clean = text.lower().translate(str.maketrans('', '', string.punctuation))\n",
    "filtered = [w for w in text_clean.split() if w not in stop_words_eng]\n",
    "print('Örnek 1:', filtered)\n",
    "\n",
    "# Örnek 2: Türkçe kısa cümle (temel kullanım)\n",
    "metin = \"Bugün hava çok güzel ve ders çalışmak için harika bir gün.\"\n",
    "metin_clean = metin.lower().translate(str.maketrans('', '', string.punctuation))\n",
    "filtered = [w for w in metin_clean.split() if w not in stop_words_tr]\n",
    "print('Örnek 2:', filtered)\n",
    "\n",
    "# Örnek 3: Noktalama işaretli ve karışık büyük/küçük harfli metin\n",
    "text = \"Hello! How ARE you doing today?\"\n",
    "text_clean = text.lower().translate(str.maketrans('', '', string.punctuation))\n",
    "filtered = [w for w in text_clean.split() if w not in stop_words_eng]\n",
    "print('Örnek 3:', filtered)\n",
    "\n",
    "# Örnek 4: Alan spesifik manuel stop words ile (ör. sosyal medya)\n",
    "my_stopwords = [\"çok\", \"ve\", \"bir\", \"için\", \"var\", \"bugün\"]\n",
    "metin = \"Çok güzel bir gün ve harika bir hava var. Bugün dışarı çıkmak için harika bir fırsat.\"\n",
    "metin_clean = metin.lower().translate(str.maketrans('', '', string.punctuation))\n",
    "filtered = [w for w in metin_clean.split() if w not in my_stopwords]\n",
    "print('Örnek 4:', filtered)\n",
    "\n",
    "# Örnek 5: Uzun metin ve ileri ön işleme (tokenizasyon, stop words, noktalama)\n",
    "long_text = \"Natural language processing is a fascinating field of artificial intelligence. It enables computers to understand and generate human language.\"\n",
    "long_text_clean = long_text.lower().translate(str.maketrans('', '', string.punctuation))\n",
    "filtered = [w for w in long_text_clean.split() if w not in stop_words_eng]\n",
    "print('Örnek 5:', filtered)"
   ]
  },
  {
   "cell_type": "markdown",
   "id": "6956143e",
   "metadata": {},
   "source": [
    "<div style='background-color:#e0f7fa; border-radius:10px; padding:14px; border-left:8px solid #00acc1;'>\n",
    "<h2>🎓 <b>Sonuç</b></h2>\n",
    "Bu ders notunda, <b>stop words</b> kavramını hem teorik hem de pratik olarak detaylıca inceledik. Farklı dillerde, farklı metin türlerinde ve farklı uygulama senaryolarında stop words çıkarımının nasıl yapılacağını öğrendiniz.\n",
    "<br><br>\n",
    "<b>🔗 İleri Okuma ve Kaynaklar:</b>\n",
    "<ul>\n",
    "<li><a href='https://www.nltk.org/' target='_blank'>NLTK Documentation</a></li>\n",
    "<li><a href='https://spacy.io/usage/linguistic-features#stop-words' target='_blank'>spaCy Stop Words</a></li>\n",
    "<li><a href='https://scikit-learn.org/stable/modules/feature_extraction.html#text-feature-extraction' target='_blank'>Scikit-learn Text Feature Extraction</a></li>\n",
    "<li><a href='https://en.wikipedia.org/wiki/Stop_word' target='_blank'>Wikipedia: Stop Words</a></li>\n",
    "</ul>\n",
    "<b style='color:#388e3c;'>Kendi projelerinizde bu teknikleri rahatlıkla uygulayabilir, ihtiyacınıza göre özelleştirebilirsiniz.</b>\n",
    "</div>"
   ]
  }
 ],
 "metadata": {
  "kernelspec": {
   "display_name": ".venv",
   "language": "python",
   "name": "python3"
  },
  "language_info": {
   "codemirror_mode": {
    "name": "ipython",
    "version": 3
   },
   "file_extension": ".py",
   "mimetype": "text/x-python",
   "name": "python",
   "nbconvert_exporter": "python",
   "pygments_lexer": "ipython3",
   "version": "3.13.7"
  }
 },
 "nbformat": 4,
 "nbformat_minor": 5
}
