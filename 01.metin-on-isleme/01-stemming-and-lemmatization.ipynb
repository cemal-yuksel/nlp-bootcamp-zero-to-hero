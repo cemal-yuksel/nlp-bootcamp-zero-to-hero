{
 "cells": [
  {
   "cell_type": "markdown",
   "id": "09926504",
   "metadata": {},
   "source": [
    "<h1 style='color:#2d6cdf;'>🧠 <b>Metin Ön İşleme: Stemming ve Lemmatization</b></h1>\n",
    "\n",
    "Bu derste, doğal dil işleme (NLP) projelerinde sıkça kullanılan <span style='color:#e67e22;'><b>stemming</b></span> ve <span style='color:#27ae60;'><b>lemmatization</b></span> kavramlarını sıfırdan ileri seviyeye kadar örneklerle öğreneceğiz.\n",
    "\n",
    "<div style='background:#f9f871;padding:10px;border-radius:8px;border-left:6px solid #f1c40f;'><b>⚡️ Hızlı Bakış:</b> <br> Stemming ve Lemmatization, metin verisini sadeleştirerek NLP modellerinin başarısını artırır.</div>\n",
    "\n",
    "<hr>\n",
    "\n",
    "<h3 style='color:#34495e;'>📚 <b>İçindekiler</b></h3>\n",
    "- <b>Stemming Nedir?</b>\n",
    "- <b>Lemmatization Nedir?</b>\n",
    "- <b>Neden Kullanılırlar?</b>\n",
    "- <b>Python ile Uygulama</b>\n",
    "- <b>Karşılaştırma ve Sonuçlar</b>"
   ]
  },
  {
   "cell_type": "markdown",
   "id": "e32a03ef",
   "metadata": {},
   "source": [
    "<h2 style='color:#e67e22;'>🌱 <b>Stemming Nedir?</b></h2>\n",
    "\n",
    "<b>Stemming</b>, kelimeleri köklerine indirgeme işlemidir. Amaç, kelimenin gövdesini (stem) bulmaktır. Bu işlem sırasında kelimenin anlamı her zaman korunmayabilir.\n",
    "\n",
    "<b>Örnek:</b>\n",
    "- <span style='color:#2980b9;'>running</span> → <b>run</b>\n",
    "- <span style='color:#2980b9;'>better</span> → <b>better</b> (değişmez)\n",
    "- <span style='color:#2980b9;'>went</span> → <b>went</b> (değişmez)\n",
    "\n",
    "<div style='background:#fbeee6;padding:10px;border-radius:8px;border-left:6px solid #e67e22;'><b>Not:</b> Stemming algoritmaları genellikle hızlıdır ve kural tabanlı çalışır.</div>"
   ]
  },
  {
   "cell_type": "markdown",
   "id": "d3fb176b",
   "metadata": {},
   "source": [
    "<h2 style='color:#27ae60;'>🌳 <b>Lemmatization Nedir?</b></h2>\n",
    "\n",
    "<b>Lemmatization</b>, kelimenin sözlükteki temel hali olan <b>lemma</b>'yı bulma işlemidir. Dilbilgisel olarak doğru kök bulunur ve kelimenin anlamı korunur.\n",
    "\n",
    "<b>Örnek:</b>\n",
    "- <span style='color:#2980b9;'>running</span> → <b>run</b>\n",
    "- <span style='color:#2980b9;'>better</span> → <b>good</b>\n",
    "- <span style='color:#2980b9;'>went</span> → <b>go</b>\n",
    "\n",
    "<div style='background:#eafaf1;padding:10px;border-radius:8px;border-left:6px solid #27ae60;'><b>İpucu:</b> Lemmatization, stemming'e göre daha yavaştır ama daha doğrudur.</div>"
   ]
  },
  {
   "cell_type": "markdown",
   "id": "451c074e",
   "metadata": {},
   "source": [
    "<h2 style='color:#8e44ad;'>❓ <b>Neden Kullanılırlar?</b></h2>\n",
    "\n",
    "- Metin verisindeki <b>benzer kelimeleri</b> tek bir forma indirgemek için kullanılır.\n",
    "- <b>Arama motorları</b>, <b>metin sınıflandırma</b> ve <b>bilgi çıkarımı</b> gibi NLP uygulamalarında önemli rol oynar.\n",
    "- <span style='color:#e67e22;'><b>Veri boyutunu azaltır</b></span> ve modelin genelleme yeteneğini artırır."
   ]
  },
  {
   "cell_type": "code",
   "execution_count": null,
   "id": "03d8cc5a",
   "metadata": {},
   "outputs": [],
   "source": [
    "# Gerekli kütüphaneleri yükleyelim\n",
    "import nltk\n",
    "nltk.download('punkt')\n",
    "nltk.download('wordnet')\n",
    "nltk.download('omw-1.4')"
   ]
  },
  {
   "cell_type": "markdown",
   "id": "f0161a01",
   "metadata": {},
   "source": [
    "<h2 style='color:#e67e22;'>🔎 <b>Stemming Uygulaması</b></h2>\n",
    "\n",
    "NLTK kütüphanesindeki <b>PorterStemmer</b> ile örnek uygulama:"
   ]
  },
  {
   "cell_type": "code",
   "execution_count": null,
   "id": "4bd1e43a",
   "metadata": {},
   "outputs": [],
   "source": [
    "from nltk.stem import PorterStemmer\n",
    "\n",
    "stemmer = PorterStemmer()\n",
    "words = ['running', 'runner', 'ran', 'runs', 'better', 'go', 'went']\n",
    "stems = [stemmer.stem(w) for w in words]\n",
    "for w, s in zip(words, stems):\n",
    "    print(f'{w:10} → {s}')"
   ]
  },
  {
   "cell_type": "markdown",
   "id": "b513d4fe",
   "metadata": {},
   "source": [
    "<h2 style='color:#27ae60;'>🟢 <b>Lemmatization Uygulaması</b></h2>\n",
    "\n",
    "NLTK kütüphanesindeki <b>WordNetLemmatizer</b> ile örnek uygulama:"
   ]
  },
  {
   "cell_type": "code",
   "execution_count": null,
   "id": "4b38ff90",
   "metadata": {},
   "outputs": [],
   "source": [
    "from nltk.stem import WordNetLemmatizer\n",
    "\n",
    "lemmatizer = WordNetLemmatizer()\n",
    "lemmas = [lemmatizer.lemmatize(w, pos='v') for w in words]\n",
    "for w, l in zip(words, lemmas):\n",
    "    print(f'{w:10} → {l}')"
   ]
  },
  {
   "cell_type": "markdown",
   "id": "2deeafd4",
   "metadata": {},
   "source": [
    "<h2 style='color:#34495e;'>⚖️ <b>Stemming ve Lemmatization Karşılaştırması</b></h2>\n",
    "\n",
    "| <b>Kelime</b>    | <b>Stemming</b> | <b>Lemmatization</b> |\n",
    "|-----------|----------|---------------|\n",
    "| running   | run      | run           |\n",
    "| runner    | runner   | run           |\n",
    "| ran       | ran      | run           |\n",
    "| runs      | run      | run           |\n",
    "| better    | better   | good          |\n",
    "| go        | go       | go            |\n",
    "| went      | went     | go            |\n",
    "\n",
    "<div style='background:#f9f871;padding:10px;border-radius:8px;border-left:6px solid #f1c40f;'><b>Önemli:</b> <br> <b>Stemming</b> hızlıdır, bazen anlamsız kökler üretebilir.<br><b>Lemmatization</b> daha doğrudur, anlamı korur.</div>"
   ]
  },
  {
   "cell_type": "markdown",
   "id": "d937926f",
   "metadata": {},
   "source": [
    "<h2 style='color:#2d6cdf;'>🎯 <b>Sonuç ve İpuçları</b></h2>\n",
    "\n",
    "- <span style='color:#e67e22;'><b>Küçük ve hızlı projelerde stemming tercih edilebilir.</b></span>\n",
    "- <span style='color:#27ae60;'><b>Anlam bütünlüğü önemliyse lemmatization kullanılmalıdır.</b></span>\n",
    "- <b>Her iki yöntemi de uygulayarak sonuçları karşılaştırmak faydalı olabilir.</b>\n",
    "\n",
    "<div style='background:#eafaf1;padding:10px;border-radius:8px;border-left:6px solid #27ae60;'>Artık metin ön işleme sürecinde <b>stemming</b> ve <b>lemmatization</b> tekniklerini profesyonelce uygulayabilirsiniz! 🚀</div>"
   ]
  },
  {
   "cell_type": "markdown",
   "id": "19b85073",
   "metadata": {},
   "source": [
    "<h1 style='color:#8e44ad;'>💼 <b>Profesyonel Kullanım Örnekleri</b></h1>\n",
    "\n",
    "Aşağıda, stemming ve lemmatization tekniklerinin farklı profesyonel NLP senaryolarında nasıl kullanılabileceğine dair <b>5 örnek</b> bulabilirsiniz."
   ]
  },
  {
   "cell_type": "markdown",
   "id": "a34913a3",
   "metadata": {},
   "source": [
    "<h3 style='color:#2d6cdf;'>🔍 1. Arama Motoru: Sorgu ve Doküman Eşleştirme</h3>\n",
    "\n",
    "Kullanıcı sorgularındaki kelimeleri köklerine indirgemek, farklı biçimlerdeki kelimelerin eşleşmesini sağlar."
   ]
  },
  {
   "cell_type": "code",
   "execution_count": 4,
   "id": "58b792f4",
   "metadata": {},
   "outputs": [
    {
     "name": "stdout",
     "output_type": "stream",
     "text": [
      "Stemmed Query   : retriev document\n",
      "Stemmed Document: the document retriev system retriev relev docs.\n"
     ]
    }
   ],
   "source": [
    "from nltk.stem import PorterStemmer\n",
    "\n",
    "stemmer = PorterStemmer()\n",
    "query = 'retrieving documents'\n",
    "document = 'The document retrieval system retrieves relevant docs.'\n",
    "\n",
    "def stem_text(text):\n",
    "    return ' '.join([stemmer.stem(word) for word in text.lower().split()])\n",
    "\n",
    "print('Stemmed Query   :', stem_text(query))\n",
    "print('Stemmed Document:', stem_text(document))"
   ]
  },
  {
   "cell_type": "markdown",
   "id": "b8f40525",
   "metadata": {},
   "source": [
    "<h3 style='color:#e67e22;'>😊 2. Duygu Analizi: Olumlu/Olumsuz Yorumların Normalizasyonu</h3>\n",
    "\n",
    "Farklı çekimlerdeki kelimeleri normalize ederek modelin daha iyi genelleme yapmasını sağlayabilirsiniz."
   ]
  },
  {
   "cell_type": "code",
   "execution_count": 5,
   "id": "4b69a2c6",
   "metadata": {},
   "outputs": [
    {
     "name": "stdout",
     "output_type": "stream",
     "text": [
      "I loved the movie              → i love the movie\n",
      "He loves movies                → he love movies\n",
      "They are loving it             → they be love it\n"
     ]
    }
   ],
   "source": [
    "from nltk.stem import WordNetLemmatizer\n",
    "\n",
    "lemmatizer = WordNetLemmatizer()\n",
    "reviews = ['I loved the movie', 'He loves movies', 'They are loving it']\n",
    "lemmatized_reviews = [' '.join([lemmatizer.lemmatize(word, pos='v') for word in review.lower().split()]) for review in reviews]\n",
    "for review, lemma in zip(reviews, lemmatized_reviews):\n",
    "    print(f'{review:30} → {lemma}')"
   ]
  },
  {
   "cell_type": "markdown",
   "id": "7b855388",
   "metadata": {},
   "source": [
    "<h3 style='color:#27ae60;'>🏷️ 3. Anahtar Kelime Çıkarımı: Kök veya Lemma ile Sıklık Analizi</h3>\n",
    "\n",
    "Metindeki anahtar kelimeleri bulmak için kelimeleri köklerine veya lemma'ya indirgemek faydalı olabilir."
   ]
  },
  {
   "cell_type": "code",
   "execution_count": 6,
   "id": "81182f53",
   "metadata": {},
   "outputs": [
    {
     "name": "stdout",
     "output_type": "stream",
     "text": [
      "Stem Sıklıkları: Counter({'cat': 3, 'running,': 1, 'runs,': 1, 'and': 1, 'ran': 1, 'quickli': 1})\n",
      "Lemma Sıklıkları: Counter({'cat': 3, 'running,': 1, 'runs,': 1, 'and': 1, 'run': 1, 'quickly': 1})\n"
     ]
    }
   ],
   "source": [
    "from collections import Counter\n",
    "text = 'Cats running, cat runs, and cats ran quickly.'\n",
    "tokens = text.lower().replace('.', '').split()\n",
    "stems = [stemmer.stem(token) for token in tokens]\n",
    "lemmas = [lemmatizer.lemmatize(token, pos='v') for token in tokens]\n",
    "print('Stem Sıklıkları:', Counter(stems))\n",
    "print('Lemma Sıklıkları:', Counter(lemmas))"
   ]
  },
  {
   "cell_type": "markdown",
   "id": "25b45884",
   "metadata": {},
   "source": [
    "<h3 style='color:#8e44ad;'>🤖 4. Chatbot: Kullanıcı Girdisinin Standartlaştırılması</h3>\n",
    "\n",
    "Kullanıcıdan gelen farklı biçimlerdeki kelimeleri standart hale getirerek daha doğru yanıtlar üretebilirsiniz."
   ]
  },
  {
   "cell_type": "code",
   "execution_count": 7,
   "id": "3137d7df",
   "metadata": {},
   "outputs": [
    {
     "name": "stdout",
     "output_type": "stream",
     "text": [
      "booking              → book\n",
      "booked               → book\n",
      "books                → book\n",
      "booking a flight     → book a flight\n"
     ]
    }
   ],
   "source": [
    "user_inputs = ['booking', 'booked', 'books', 'booking a flight']\n",
    "standardized = [' '.join([lemmatizer.lemmatize(word, pos='v') for word in inp.lower().split()]) for inp in user_inputs]\n",
    "for inp, std in zip(user_inputs, standardized):\n",
    "    print(f'{inp:20} → {std}')"
   ]
  },
  {
   "cell_type": "markdown",
   "id": "9757a720",
   "metadata": {},
   "source": [
    "<h3 style='color:#34495e;'>🧩 5. Dil Modeli Eğitimi: Veri Boyutunun Azaltılması</h3>\n",
    "\n",
    "Stemming veya lemmatization ile kelime çeşitliliğini azaltarak daha verimli dil modelleri eğitilebilir."
   ]
  },
  {
   "cell_type": "code",
   "execution_count": 8,
   "id": "fab694f0",
   "metadata": {},
   "outputs": [
    {
     "name": "stdout",
     "output_type": "stream",
     "text": [
      "Farklı kelime sayısı (orijinal): 11\n",
      "Farklı kelime sayısı (stem): 9\n",
      "Farklı kelime sayısı (lemma): 9\n"
     ]
    }
   ],
   "source": [
    "corpus = ['The children are playing', 'A child played yesterday', 'Children play every day']\n",
    "tokens = [sentence.lower().split() for sentence in corpus]\n",
    "flat_tokens = [word for sublist in tokens for word in sublist]\n",
    "stems = set([stemmer.stem(word) for word in flat_tokens])\n",
    "lemmas = set([lemmatizer.lemmatize(word, pos='v') for word in flat_tokens])\n",
    "print('Farklı kelime sayısı (orijinal):', len(set(flat_tokens)))\n",
    "print('Farklı kelime sayısı (stem):', len(stems))\n",
    "print('Farklı kelime sayısı (lemma):', len(lemmas))"
   ]
  }
 ],
 "metadata": {
  "kernelspec": {
   "display_name": ".venv",
   "language": "python",
   "name": "python3"
  },
  "language_info": {
   "codemirror_mode": {
    "name": "ipython",
    "version": 3
   },
   "file_extension": ".py",
   "mimetype": "text/x-python",
   "name": "python",
   "nbconvert_exporter": "python",
   "pygments_lexer": "ipython3",
   "version": "3.13.7"
  }
 },
 "nbformat": 4,
 "nbformat_minor": 5
}
