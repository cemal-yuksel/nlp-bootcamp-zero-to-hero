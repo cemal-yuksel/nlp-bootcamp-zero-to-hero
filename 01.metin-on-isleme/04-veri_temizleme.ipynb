{
 "cells": [
  {
   "cell_type": "markdown",
   "id": "91ccb34d",
   "metadata": {},
   "source": [
    "<h1 style=\"color:#2d8659;\">🧹 Metin Temizleme: <b>From Zero to Hero</b></h1>\n",
    "\n",
    "<div style=\"background:#e6f7ff; border-left:6px solid #1890ff; padding:12px; margin-bottom:10px;\">\n",
    "<b>Doğal Dil İşleme (NLP)</b> projelerinde, <b>ham metin verisi</b> çoğunlukla analiz için uygun değildir.<br>\n",
    "<b style='color:#d46b08;'>Metin temizleme (text cleaning)</b> adımı kritik öneme sahiptir.\n",
    "</div>\n",
    "\n",
    "<details>\n",
    "<summary><b>📚 İçindekiler</b></summary>\n",
    "<ul>\n",
    "<li>1. Fazla Boşlukları Kaldırma</li>\n",
    "<li>2. Büyük/Küçük Harf Dönüşümü</li>\n",
    "<li>3. Noktalama İşaretlerini Kaldırma</li>\n",
    "<li>4. Özel Karakterleri Temizleme</li>\n",
    "<li>5. Sayılardan Arındırma</li>\n",
    "<li>6. Yazım Hatalarını Düzeltme</li>\n",
    "<li>7. HTML ve URL Temizliği</li>\n",
    "<li>8. Emojileri ve Unicode Karakterleri Temizleme</li>\n",
    "<li>9. Stopword (Anlamsız Kelime) Temizliği</li>\n",
    "<li>10. Kök Bulma (Stemming) ve Lemmatizasyon</li>\n",
    "<li>11. Birleştirilmiş Temizleme Fonksiyonu</li>\n",
    "<li>12. Gerçek Hayattan 5 Zengin Temizleme Örneği</li>\n",
    "</ul>\n",
    "</details>"
   ]
  },
  {
   "cell_type": "markdown",
   "id": "aa5c922e",
   "metadata": {},
   "source": [
    "<div style=\"background:#fffbe6; border-left:6px solid #faad14; padding:12px; margin-bottom:10px;\">\n",
    "<b>💡 Flashcard:</b> <span style=\"color:#d4380d;\">Metin temizleme, NLP projelerinde başarı için <b>olmazsa olmaz</b> ilk adımdır!</span>\n",
    "</div>"
   ]
  },
  {
   "cell_type": "markdown",
   "id": "d74bd40e",
   "metadata": {},
   "source": [
    "<h2 id=\"fazla-bosluk\" style=\"color:#096dd9;\">1️⃣ Fazla Boşlukları Kaldırma</h2>\n",
    "\n",
    "<span style=\"color:#389e0d;\"><b>✔️ Neden?</b></span> Fazla boşluk, tab veya satır sonu karakterleri veri tutarlılığını bozar.\n",
    "\n",
    "<div style=\"background:#f6ffed; border-left:6px solid #52c41a; padding:10px;\">\n",
    "<b>İpucu:</b> <code>split()</code> ve <code>join()</code> ile kolayca fazla boşlukları kaldırabilirsiniz.\n",
    "</div>"
   ]
  },
  {
   "cell_type": "code",
   "execution_count": 1,
   "id": "2c17d649",
   "metadata": {},
   "outputs": [
    {
     "name": "stdout",
     "output_type": "stream",
     "text": [
      "Orijinal: 'Hello,     World!\\t\\nThis   is\\ta   test.   '\n",
      "Temizlenmiş: 'Hello, World! This is a test.'\n"
     ]
    }
   ],
   "source": [
    "# Fazla boşluk, tab ve satır sonlarını tek boşluğa indirgeme\n",
    "text = \"Hello,     World!\\t\\nThis   is\\ta   test.   \"\n",
    "cleaned_text = \" \".join(text.split())\n",
    "print(f\"Orijinal: {repr(text)}\\nTemizlenmiş: {repr(cleaned_text)}\")"
   ]
  },
  {
   "cell_type": "markdown",
   "id": "6ea21808",
   "metadata": {},
   "source": [
    "<h2 id=\"buyuk-kucuk\" style=\"color:#096dd9;\">2️⃣ Büyük/Küçük Harf Dönüşümü</h2>\n",
    "\n",
    "<span style=\"color:#389e0d;\"><b>✔️ Neden?</b></span> <b>Büyük/küçük harf</b> farklılıkları, kelime analizlerinde tutarsızlığa yol açar.\n",
    "\n",
    "<div style=\"background:#e6f7ff; border-left:6px solid #1890ff; padding:10px;\">\n",
    "<b>Flashcard:</b> <span style=\"color:#0050b3;\">Tüm metni <b>küçük harfe</b> çevirerek analizde standardizasyon sağlanır.</span>\n",
    "</div>"
   ]
  },
  {
   "cell_type": "code",
   "execution_count": 2,
   "id": "8b499a89",
   "metadata": {},
   "outputs": [
    {
     "name": "stdout",
     "output_type": "stream",
     "text": [
      "Orijinal: Python is GREAT. python is great!\n",
      "Temizlenmiş: python is great. python is great!\n"
     ]
    }
   ],
   "source": [
    "text = \"Python is GREAT. python is great!\"\n",
    "cleaned_text = text.lower()\n",
    "print(f\"Orijinal: {text}\\nTemizlenmiş: {cleaned_text}\")"
   ]
  },
  {
   "cell_type": "markdown",
   "id": "ed88df2c",
   "metadata": {},
   "source": [
    "<h2 id=\"noktalama\" style=\"color:#096dd9;\">3️⃣ Noktalama İşaretlerini Kaldırma</h2>\n",
    "\n",
    "<span style=\"color:#389e0d;\"><b>✔️ Neden?</b></span> Noktalama işaretleri çoğu NLP uygulamasında gereksizdir.\n",
    "\n",
    "<div style=\"background:#fffbe6; border-left:6px solid #faad14; padding:10px;\">\n",
    "<b>⚠️ Dikkat:</b> Duygu analizi gibi bazı uygulamalarda noktalama önemli olabilir.\n",
    "</div>"
   ]
  },
  {
   "cell_type": "code",
   "execution_count": 3,
   "id": "cc25209f",
   "metadata": {},
   "outputs": [
    {
     "name": "stdout",
     "output_type": "stream",
     "text": [
      "Orijinal: Merhaba! NLP, Python'da çok kolay; değil mi? Evet: kolay...\n",
      "Temizlenmiş: Merhaba NLP Pythonda çok kolay değil mi Evet kolay\n"
     ]
    }
   ],
   "source": [
    "import string\n",
    "text = \"Merhaba! NLP, Python'da çok kolay; değil mi? Evet: kolay...\"\n",
    "cleaned_text = text.translate(str.maketrans('', '', string.punctuation))\n",
    "print(f\"Orijinal: {text}\\nTemizlenmiş: {cleaned_text}\")"
   ]
  },
  {
   "cell_type": "markdown",
   "id": "c224e921",
   "metadata": {},
   "source": [
    "<h2 id=\"ozel-karakter\" style=\"color:#096dd9;\">4️⃣ Özel Karakterleri Temizleme</h2>\n",
    "\n",
    "<span style=\"color:#389e0d;\"><b>✔️ Neden?</b></span> @, %, #, $, ^, &, *, / gibi karakterler analizde gürültü oluşturur.\n",
    "\n",
    "<div style=\"background:#f6ffed; border-left:6px solid #52c41a; padding:10px;\">\n",
    "<b>Flashcard:</b> <span style=\"color:#237804;\">Regex ile özel karakterleri kolayca temizleyebilirsiniz.</span>\n",
    "</div>"
   ]
  },
  {
   "cell_type": "code",
   "execution_count": 4,
   "id": "617e48d1",
   "metadata": {},
   "outputs": [
    {
     "name": "stdout",
     "output_type": "stream",
     "text": [
      "Orijinal: @cemal: NLP %100 #harika! $1000 kazandım & çok mutluyum :)\n",
      "Temizlenmiş: cemal NLP 100 harika 1000 kazandım  çok mutluyum \n"
     ]
    }
   ],
   "source": [
    "import re\n",
    "text = \"@cemal: NLP %100 #harika! $1000 kazandım & çok mutluyum :)\"\n",
    "cleaned_text = re.sub(r\"[^A-Za-z0-9ğüşöçıİĞÜŞÖÇ\\s]\", \"\", text)\n",
    "print(f\"Orijinal: {text}\\nTemizlenmiş: {cleaned_text}\")"
   ]
  },
  {
   "cell_type": "markdown",
   "id": "54dea5ae",
   "metadata": {},
   "source": [
    "<h2 id=\"sayi\" style=\"color:#096dd9;\">5️⃣ Sayılardan Arındırma</h2>\n",
    "\n",
    "<span style=\"color:#389e0d;\"><b>✔️ Neden?</b></span> Sayılar bazı analizlerde gereksizdir, bazı durumlarda ise anlamlıdır.\n",
    "\n",
    "<div style=\"background:#fffbe6; border-left:6px solid #faad14; padding:10px;\">\n",
    "<b>⚠️ Dikkat:</b> Finansal veya tarihsel analizlerde sayıları silmeyin!\n",
    "</div>"
   ]
  },
  {
   "cell_type": "code",
   "execution_count": 5,
   "id": "da2735cc",
   "metadata": {},
   "outputs": [
    {
     "name": "stdout",
     "output_type": "stream",
     "text": [
      "Orijinal: 2025 yılında, 100 öğrenciden 95'i Python öğreniyor!\n",
      "Temizlenmiş:  yılında,  öğrenciden 'i Python öğreniyor!\n"
     ]
    }
   ],
   "source": [
    "text = \"2025 yılında, 100 öğrenciden 95'i Python öğreniyor!\"\n",
    "cleaned_text = re.sub(r\"\\d+\", \"\", text)\n",
    "print(f\"Orijinal: {text}\\nTemizlenmiş: {cleaned_text}\")"
   ]
  },
  {
   "cell_type": "markdown",
   "id": "07bd003e",
   "metadata": {},
   "source": [
    "<h2 id=\"yazim-hatasi\" style=\"color:#096dd9;\">6️⃣ Yazım Hatalarını Düzeltme</h2>\n",
    "\n",
    "<span style=\"color:#389e0d;\"><b>✔️ Neden?</b></span> Yazım hataları, kelime analizlerinde anlam kaybına yol açar.\n",
    "\n",
    "<div style=\"background:#e6f7ff; border-left:6px solid #1890ff; padding:10px;\">\n",
    "<b>Flashcard:</b> <span style=\"color:#0050b3;\">İngilizce için <b>TextBlob</b>, Türkçe için <b>Zemberek</b> kullanılabilir.</span>\n",
    "</div>"
   ]
  },
  {
   "cell_type": "code",
   "execution_count": 6,
   "id": "704f688d",
   "metadata": {},
   "outputs": [
    {
     "name": "stdout",
     "output_type": "stream",
     "text": [
      "Orijinal: Ths is a smple txt with sme speling erors.\n",
      "Düzeltilmiş: The is a smile txt with she spelling errors.\n"
     ]
    }
   ],
   "source": [
    "from textblob import TextBlob\n",
    "text = \"Ths is a smple txt with sme speling erors.\"\n",
    "corrected = str(TextBlob(text).correct())\n",
    "print(f\"Orijinal: {text}\\nDüzeltilmiş: {corrected}\")"
   ]
  },
  {
   "cell_type": "markdown",
   "id": "ee011b7c",
   "metadata": {},
   "source": [
    "<div style=\"background:#fff1f0; border-left:6px solid #f5222d; padding:10px;\">\n",
    "<b>Not:</b> Türkçe yazım düzeltme için ek kütüphaneler gerekir. İngilizce örnek verilmiştir.\n",
    "</div>"
   ]
  },
  {
   "cell_type": "markdown",
   "id": "ef5b50db",
   "metadata": {},
   "source": [
    "<h2 id=\"html-url\" style=\"color:#096dd9;\">7️⃣ HTML ve URL Temizliği</h2>\n",
    "\n",
    "<span style=\"color:#389e0d;\"><b>✔️ Neden?</b></span> Web verilerinde HTML etiketleri ve URL'ler analizde gürültü oluşturur.\n",
    "\n",
    "<div style=\"background:#f6ffed; border-left:6px solid #52c41a; padding:10px;\">\n",
    "<b>Flashcard:</b> <span style=\"color:#237804;\">BeautifulSoup ile HTML, regex ile URL temizliği yapılır.</span>\n",
    "</div>"
   ]
  },
  {
   "cell_type": "code",
   "execution_count": 7,
   "id": "e1c65f5f",
   "metadata": {},
   "outputs": [
    {
     "name": "stdout",
     "output_type": "stream",
     "text": [
      "Orijinal: <div>Merhaba! <a href='https://github.com'>GitHub</a> adresini ziyaret edin.</div>\n",
      "HTML'siz: Merhaba! GitHub adresini ziyaret edin.\n",
      "URL'siz: Merhaba! GitHub adresini ziyaret edin.\n"
     ]
    }
   ],
   "source": [
    "from bs4 import BeautifulSoup\n",
    "text = \"<div>Merhaba! <a href='https://github.com'>GitHub</a> adresini ziyaret edin.</div>\"\n",
    "# HTML etiketlerini kaldır\n",
    "no_html = BeautifulSoup(text, \"html.parser\").get_text()\n",
    "# URL'leri kaldır\n",
    "no_url = re.sub(r\"https?://\\S+|www\\.\\S+\", \"\", no_html)\n",
    "print(f\"Orijinal: {text}\\nHTML'siz: {no_html}\\nURL'siz: {no_url}\")"
   ]
  },
  {
   "cell_type": "markdown",
   "id": "af5b413b",
   "metadata": {},
   "source": [
    "<h2 id=\"emoji\" style=\"color:#096dd9;\">8️⃣ Emojileri ve Unicode Karakterleri Temizleme</h2>\n",
    "\n",
    "<span style=\"color:#389e0d;\"><b>✔️ Neden?</b></span> Emojiler ve bazı özel unicode karakterler analizde gürültü oluşturabilir.\n",
    "\n",
    "<div style=\"background:#fffbe6; border-left:6px solid #faad14; padding:10px;\">\n",
    "<b>⚠️ Dikkat:</b> Bazı projelerde emojiler duygu analizi için kullanılabilir.\n",
    "</div>"
   ]
  },
  {
   "cell_type": "code",
   "execution_count": 11,
   "id": "9ef05c2e",
   "metadata": {},
   "outputs": [
    {
     "name": "stdout",
     "output_type": "stream",
     "text": [
      "Orijinal: Python çok eğlenceli 😃👍 #NLP 🚀\n",
      "Temizlenmiş: Python çok eğlenceli  #NLP \n"
     ]
    }
   ],
   "source": [
    "text = \"Python çok eğlenceli 😃👍 #NLP 🚀\"\n",
    "# Unicode emoji ve simgeleri kaldır\n",
    "emoji_pattern = re.compile(\n",
    "\tr\"[\\U0001F600-\\U0001F64F\"\n",
    "\tr\"\\U0001F300-\\U0001F5FF\"\n",
    "\tr\"\\U0001F680-\\U0001F6FF\"\n",
    "\tr\"\\U0001F1E0-\\U0001F1FF]+\",\n",
    "\tflags=re.UNICODE\n",
    ")\n",
    "cleaned_text = emoji_pattern.sub(r'', text)\n",
    "print(f\"Orijinal: {text}\\nTemizlenmiş: {cleaned_text}\")"
   ]
  },
  {
   "cell_type": "markdown",
   "id": "755bba46",
   "metadata": {},
   "source": [
    "<h2 id=\"stopword\" style=\"color:#096dd9;\">9️⃣ Stopword (Anlamsız Kelime) Temizliği</h2>\n",
    "\n",
    "<span style=\"color:#389e0d;\"><b>✔️ Neden?</b></span> Stopword'ler, cümlede anlam taşımayan sık kullanılan kelimelerdir.\n",
    "\n",
    "<div style=\"background:#e6f7ff; border-left:6px solid #1890ff; padding:10px;\">\n",
    "<b>Flashcard:</b> <span style=\"color:#0050b3;\">Stopword temizliği ile <b>anlamlı kelimeler</b> öne çıkar.</span>\n",
    "</div>"
   ]
  },
  {
   "cell_type": "code",
   "execution_count": 12,
   "id": "235f74f9",
   "metadata": {},
   "outputs": [
    {
     "name": "stdout",
     "output_type": "stream",
     "text": [
      "Orijinal: Python ile doğal dil işleme yapmak çok kolay ve eğlenceli bir süreçtir.\n",
      "Stopword'süz: python doğal dil işleme yapmak kolay eğlenceli bir süreçtir.\n"
     ]
    },
    {
     "name": "stderr",
     "output_type": "stream",
     "text": [
      "[nltk_data] Downloading package stopwords to\n",
      "[nltk_data]     C:\\Users\\Cemal\\AppData\\Roaming\\nltk_data...\n",
      "[nltk_data]   Package stopwords is already up-to-date!\n"
     ]
    }
   ],
   "source": [
    "from nltk.corpus import stopwords\n",
    "import nltk\n",
    "nltk.download('stopwords')\n",
    "text = \"Python ile doğal dil işleme yapmak çok kolay ve eğlenceli bir süreçtir.\"\n",
    "stop_words = set(stopwords.words('turkish'))\n",
    "words = text.lower().split()\n",
    "filtered = [w for w in words if w not in stop_words]\n",
    "print(f\"Orijinal: {text}\\nStopword'süz: {' '.join(filtered)}\")"
   ]
  },
  {
   "cell_type": "markdown",
   "id": "9c27085f",
   "metadata": {},
   "source": [
    "<h2 id=\"kok-lemmatizasyon\" style=\"color:#096dd9;\">🔟 Kök Bulma (Stemming) ve Lemmatizasyon</h2>\n",
    "\n",
    "<span style=\"color:#389e0d;\"><b>✔️ Neden?</b></span> Kelimeleri kök veya temel haline indirgemek, veri boyutunu azaltır ve analizde anlam bütünlüğü sağlar.\n",
    "\n",
    "<div style=\"background:#f6ffed; border-left:6px solid #52c41a; padding:10px;\">\n",
    "<b>Flashcard:</b> <span style=\"color:#237804;\">İngilizce için <b>NLTK</b>, Türkçe için <b>Zemberek</b> veya <b>Stanza</b> kullanılır.</span>\n",
    "</div>"
   ]
  },
  {
   "cell_type": "code",
   "execution_count": 13,
   "id": "43899343",
   "metadata": {},
   "outputs": [
    {
     "name": "stderr",
     "output_type": "stream",
     "text": [
      "[nltk_data] Downloading package wordnet to\n",
      "[nltk_data]     C:\\Users\\Cemal\\AppData\\Roaming\\nltk_data...\n",
      "[nltk_data]   Package wordnet is already up-to-date!\n"
     ]
    },
    {
     "name": "stdout",
     "output_type": "stream",
     "text": [
      "Stemming:\n",
      "running -> run\n",
      "flies -> fli\n",
      "better -> better\n",
      "studies -> studi\n",
      "\n",
      "Lemmatization:\n",
      "running -> running\n",
      "flies -> fly\n",
      "better -> better\n",
      "studies -> study\n",
      "running -> running\n",
      "flies -> fly\n",
      "better -> better\n",
      "studies -> study\n"
     ]
    }
   ],
   "source": [
    "from nltk.stem import PorterStemmer, WordNetLemmatizer\n",
    "nltk.download('wordnet')\n",
    "ps = PorterStemmer()\n",
    "lemmatizer = WordNetLemmatizer()\n",
    "words = [\"running\", \"flies\", \"better\", \"studies\"]\n",
    "print(\"Stemming:\")\n",
    "for w in words:\n",
    "    print(f\"{w} -> {ps.stem(w)}\")\n",
    "print(\"\\nLemmatization:\")\n",
    "for w in words:\n",
    "    print(f\"{w} -> {lemmatizer.lemmatize(w)}\")"
   ]
  },
  {
   "cell_type": "markdown",
   "id": "0acd599c",
   "metadata": {},
   "source": [
    "<div style=\"background:#fff1f0; border-left:6px solid #f5222d; padding:10px;\">\n",
    "<b>Not:</b> Türkçe kök bulma için ek kütüphaneler gereklidir (ör. Zemberek, Stanza).\n",
    "</div>"
   ]
  },
  {
   "cell_type": "markdown",
   "id": "a524a959",
   "metadata": {},
   "source": [
    "<h2 id=\"birlesik\" style=\"color:#096dd9;\">1️⃣1️⃣ Birleştirilmiş Temizleme Fonksiyonu</h2>\n",
    "\n",
    "<div style=\"background:#e6f7ff; border-left:6px solid #1890ff; padding:10px;\">\n",
    "<b>Flashcard:</b> <span style=\"color:#0050b3;\">Tüm adımları bir arada uygulayan <b>profesyonel fonksiyon</b> ile tam temizlik!</span>\n",
    "</div>"
   ]
  },
  {
   "cell_type": "code",
   "execution_count": 17,
   "id": "704fc3fe",
   "metadata": {},
   "outputs": [
    {
     "name": "stdout",
     "output_type": "stream",
     "text": [
      "yılında python nlp yapmak kolay fazla bilgi adresini ziyaret edin\n"
     ]
    }
   ],
   "source": [
    "def full_clean_text(text, lang='turkish'):\n",
    "    import re, string\n",
    "    from bs4 import BeautifulSoup\n",
    "    # HTML etiketlerini kaldır\n",
    "    text = BeautifulSoup(text, \"html.parser\").get_text()\n",
    "    # URL'leri kaldır\n",
    "    text = re.sub(r\"https?://\\S+|www\\.\\S+\", \"\", text)\n",
    "    # Küçük harfe çevir\n",
    "    text = text.lower()\n",
    "    # Noktalama işaretlerini kaldır\n",
    "    text = text.translate(str.maketrans('', '', string.punctuation))\n",
    "    # Emojileri kaldır\n",
    "    emoji_pattern = re.compile(\n",
    "        r\"[\\U0001F600-\\U0001F64F\"\n",
    "        r\"\\U0001F300-\\U0001F5FF\"\n",
    "        r\"\\U0001F680-\\U0001F6FF\"\n",
    "        r\"\\U0001F1E0-\\U0001F1FF]+\",\n",
    "        flags=re.UNICODE\n",
    "    )\n",
    "    text = emoji_pattern.sub(r'', text)\n",
    "    # Sayıları kaldır\n",
    "    text = re.sub(r\"\\d+\", \"\", text)\n",
    "    # Fazla boşlukları kaldır\n",
    "    text = \" \".join(text.split())\n",
    "    # Stopword temizliği\n",
    "    try:\n",
    "        from nltk.corpus import stopwords\n",
    "        stop_words = set(stopwords.words(lang))\n",
    "        text = ' '.join([w for w in text.split() if w not in stop_words])\n",
    "    except:\n",
    "        pass\n",
    "    return text\n",
    "\n",
    "# Örnek kullanım\n",
    "sample = \"<p>2025 yılında Python ile NLP 🚀 yapmak çok kolay! Daha fazla bilgi için https://github.com adresini ziyaret edin.</p>\"\n",
    "print(full_clean_text(sample))"
   ]
  },
  {
   "cell_type": "markdown",
   "id": "bd966d0b",
   "metadata": {},
   "source": [
    "<h2 id=\"ornekler\" style=\"color:#096dd9;\">1️⃣2️⃣ Gerçek Hayattan 5 Zengin Temizleme Örneği</h2>\n",
    "\n",
    "<div style=\"background:#f6ffed; border-left:6px solid #52c41a; padding:10px;\">\n",
    "<b>Flashcard:</b> <span style=\"color:#237804;\">Farklı kaynaklardan alınmış, karmaşık ve uzun metinlerin temizlenmesi örneklenmiştir.</span>\n",
    "</div>"
   ]
  },
  {
   "cell_type": "code",
   "execution_count": 18,
   "id": "64b8f9bc",
   "metadata": {},
   "outputs": [
    {
     "name": "stdout",
     "output_type": "stream",
     "text": [
      "--- Örnek 1 ---\n",
      "Orijinal:\n",
      "<div>Sayın kullanıcı, 2025 yılında %50 indirim fırsatını kaçırmayın! Detaylar için: https://kampanya.site/indirim 😃</div>\n",
      "\n",
      "Temizlenmiş:\n",
      "sayın kullanıcı yılında indirim fırsatını kaçırmayın detaylar\n",
      "\n",
      "\n",
      "--- Örnek 2 ---\n",
      "Orijinal:\n",
      "Python, veri bilimi ve makine öğrenimi alanlarında en çok tercih edilen dillerden biridir. (Kaynak: www.python.org) #DataScience\n",
      "\n",
      "Temizlenmiş:\n",
      "python veri bilimi makine öğrenimi alanlarında tercih edilen dillerden biridir kaynak datascience\n",
      "\n",
      "\n",
      "--- Örnek 3 ---\n",
      "Orijinal:\n",
      "Merhaba! Bugün hava çok güzel, değil mi? 😊 Yarın görüşmek üzere...\n",
      "\n",
      "Temizlenmiş:\n",
      "merhaba bugün hava güzel değil mi yarın görüşmek üzere\n",
      "\n",
      "\n",
      "--- Örnek 4 ---\n",
      "Orijinal:\n",
      "E-mail: info@nlp.com | Telefon: +90 555 123 45 67 | Adres: İstanbul/Türkiye\n",
      "\n",
      "Temizlenmiş:\n",
      "email infonlpcom telefon adres i̇stanbultürkiye\n",
      "\n",
      "\n",
      "--- Örnek 5 ---\n",
      "Orijinal:\n",
      "<html><body><h1>Başlık</h1><p>Bu bir <b>örnek</b> metindir. 2023 yılında yazılmıştır.</p></body></html>\n",
      "\n",
      "Temizlenmiş:\n",
      "başlıkbu bir örnek metindir yılında yazılmıştır\n",
      "\n",
      "\n"
     ]
    }
   ],
   "source": [
    "examples = [\n",
    "    \"\"\"<div>Sayın kullanıcı, 2025 yılında %50 indirim fırsatını kaçırmayın! Detaylar için: https://kampanya.site/indirim 😃</div>\"\"\",\n",
    "    \"\"\"Python, veri bilimi ve makine öğrenimi alanlarında en çok tercih edilen dillerden biridir. (Kaynak: www.python.org) #DataScience\"\"\",\n",
    "    \"\"\"Merhaba! Bugün hava çok güzel, değil mi? 😊 Yarın görüşmek üzere...\"\"\",\n",
    "    \"\"\"E-mail: info@nlp.com | Telefon: +90 555 123 45 67 | Adres: İstanbul/Türkiye\"\"\",\n",
    "    \"\"\"<html><body><h1>Başlık</h1><p>Bu bir <b>örnek</b> metindir. 2023 yılında yazılmıştır.</p></body></html>\"\"\"\n",
    "]\n",
    "\n",
    "for i, ex in enumerate(examples, 1):\n",
    "    print(f\"--- Örnek {i} ---\")\n",
    "    print(\"Orijinal:\")\n",
    "    print(ex)\n",
    "    print(\"\\nTemizlenmiş:\")\n",
    "    print(full_clean_text(ex))\n",
    "    print(\"\\n\")"
   ]
  }
 ],
 "metadata": {
  "kernelspec": {
   "display_name": ".venv",
   "language": "python",
   "name": "python3"
  },
  "language_info": {
   "codemirror_mode": {
    "name": "ipython",
    "version": 3
   },
   "file_extension": ".py",
   "mimetype": "text/x-python",
   "name": "python",
   "nbconvert_exporter": "python",
   "pygments_lexer": "ipython3",
   "version": "3.13.7"
  }
 },
 "nbformat": 4,
 "nbformat_minor": 5
}
